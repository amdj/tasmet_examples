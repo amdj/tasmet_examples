{
 "cells": [
  {
   "cell_type": "markdown",
   "metadata": {},
   "source": [
    "# TaSMET example: a resonant tube driven by a piston"
   ]
  },
  {
   "cell_type": "markdown",
   "metadata": {},
   "source": [
    "<img src=\"resonant_tube.png\">"
   ]
  },
  {
   "cell_type": "markdown",
   "metadata": {},
   "source": [
    "Step 1: import the code models into the Python namespace"
   ]
  },
  {
   "cell_type": "code",
   "execution_count": null,
   "metadata": {
    "collapsed": true
   },
   "outputs": [],
   "source": [
    "from TaSMET import *\n",
    "import mpld3; mpld3.enable_notebook()"
   ]
  },
  {
   "cell_type": "markdown",
   "metadata": {},
   "source": [
    "Step 2: Define the global configuration, initialize a TaSystem"
   ]
  },
  {
   "cell_type": "code",
   "execution_count": null,
   "metadata": {
    "collapsed": false
   },
   "outputs": [],
   "source": [
    "Nf=6 # The number of harmonics to solve for\n",
    "freq=343/4 # The oscillating frequency\n",
    "omg=2*pi*freq # Radian frequency\n",
    "# Define a global configuration\n",
    "gc=Globalconf_airSTP(Nf,freq)\n",
    "\n",
    "# And: create a TaSystem object\n",
    "sys=TaSystem(gc)"
   ]
  },
  {
   "cell_type": "markdown",
   "metadata": {},
   "source": [
    "## Generate a Piston object"
   ]
  },
  {
   "cell_type": "markdown",
   "metadata": {},
   "source": [
    "<img src=\"piston.png\" width=\"400\">"
   ]
  },
  {
   "cell_type": "code",
   "execution_count": null,
   "metadata": {
    "collapsed": false
   },
   "outputs": [],
   "source": [
    "Km=1e-4 # Stiffness of the spring\n",
    "Cm=0    # Mechanical damping\n",
    "Mp=0.1   # Mass of the spring\n",
    "R=0.02 # Radius of the tube of 1 cm\n",
    "Sl=Sr=pi*R**2 # Left and right surface area of the piston\n",
    "\n",
    "Ma_low=0.001\n",
    "Ma_high=0.02\n",
    "Ma=Ma_low\n",
    "u1=Ma*gc.c0()\n",
    "x1=u1/omg\n",
    "\n",
    "Vr=1.1*x1*Sr #\n",
    "Vl=10*Vr # Very compliant left volume\n",
    "# Generate a piston configuration\n",
    "pc=PistonConfiguration(Sl,Sr,Vl,Vr,Mp,Km,Cm)\n",
    "\n",
    "# Finally, build the piston\n",
    "piston=Piston(pc)\n",
    "# To refer to the piston, we need an ID:\n",
    "piston.setID('piston')"
   ]
  },
  {
   "cell_type": "markdown",
   "metadata": {},
   "source": [
    "## Generate a tube model"
   ]
  },
  {
   "cell_type": "markdown",
   "metadata": {},
   "source": [
    "### First step: generate 1D grid"
   ]
  },
  {
   "cell_type": "markdown",
   "metadata": {},
   "source": [
    "### Example: linear grid"
   ]
  },
  {
   "cell_type": "code",
   "execution_count": null,
   "metadata": {
    "collapsed": false
   },
   "outputs": [],
   "source": [
    "lineargrid=LinearGrid(50,1)\n",
    "plot(lineargrid.getx(),'o'); xlabel('N'); ylabel('x');"
   ]
  },
  {
   "cell_type": "markdown",
   "metadata": {},
   "source": [
    "### Better: boundary layer grid"
   ]
  },
  {
   "cell_type": "code",
   "execution_count": null,
   "metadata": {
    "collapsed": false
   },
   "outputs": [],
   "source": [
    "blgrid=BlGrid(1,gc.deltanu0()/30,0.01)\n",
    "plot(blgrid.getx(),'o'); xlabel('N'); ylabel('x');"
   ]
  },
  {
   "cell_type": "markdown",
   "metadata": {},
   "source": [
    "### Generate a geometry"
   ]
  },
  {
   "cell_type": "code",
   "execution_count": null,
   "metadata": {
    "collapsed": false
   },
   "outputs": [],
   "source": [
    "# Choices: ConeTube, CylindricalTube, VertPlates\n",
    "geom=CylindricalTube(blgrid.getx(),R,True)"
   ]
  },
  {
   "cell_type": "markdown",
   "metadata": {},
   "source": [
    "### Finally: generate the LaminarDuct"
   ]
  },
  {
   "cell_type": "code",
   "execution_count": null,
   "metadata": {
    "collapsed": false
   },
   "outputs": [],
   "source": [
    "tube=LaminarDuct(geom)\n",
    "# Allow for exchanging heat with the wall\n",
    "tube.setInsulated(False)\n",
    "# Set an ID to refer to it\n",
    "tube.setID('tube')"
   ]
  },
  {
   "cell_type": "markdown",
   "metadata": {},
   "source": [
    "# Connect the piston to the tube, apply boundary conditions"
   ]
  },
  {
   "cell_type": "markdown",
   "metadata": {},
   "source": [
    "## Connect the tube to the piston"
   ]
  },
  {
   "cell_type": "code",
   "execution_count": null,
   "metadata": {
    "collapsed": false
   },
   "outputs": [],
   "source": [
    "# A connector to connect the tube on the left side to the piston\n",
    "# on the right side\n",
    "ductpistoncon=DuctPistonConnector('tube',left,'piston',right)"
   ]
  },
  {
   "cell_type": "markdown",
   "metadata": {},
   "source": [
    "### Apply a wall boundary condition on the right side of the tube"
   ]
  },
  {
   "cell_type": "code",
   "execution_count": null,
   "metadata": {
    "collapsed": true
   },
   "outputs": [],
   "source": [
    "wallbc=IsoTWall('tube',right,var(gc,293.15),True)"
   ]
  },
  {
   "cell_type": "markdown",
   "metadata": {},
   "source": [
    "### Apply a mechanical boundary condition on the piston"
   ]
  },
  {
   "cell_type": "code",
   "execution_count": null,
   "metadata": {
    "collapsed": false
   },
   "outputs": [],
   "source": [
    "forcevar=var(gc)\n",
    "forcevar.setadata(1,1000) # Apply a force of 10N at the first harmonic: F_1=10 N\n",
    "#forcevar.setadata(3,8) # Apply a force of 8N at tha second harmonic: F_2=8 N\n",
    "mechbc=MechBc('piston',Varnr_F,forcevar)\n",
    "\n",
    "# Or, if we want a kinematic constraint on the piston\n",
    "xvar=var(gc)\n",
    "xvar.setadata(1,x1)\n",
    "\n",
    "mechbc=MechBc('piston',Varnr_x,xvar)"
   ]
  },
  {
   "cell_type": "markdown",
   "metadata": {},
   "source": [
    "# Add all segments and boundary conditions to the TaSystem"
   ]
  },
  {
   "cell_type": "code",
   "execution_count": null,
   "metadata": {
    "collapsed": false
   },
   "outputs": [],
   "source": [
    "setTaSMETTracer(40)\n",
    "# Segments\n",
    "sys+=tube\n",
    "sys+=piston\n",
    "# Boundary conditions\n",
    "sys+=mechbc\n",
    "sys+=ductpistoncon\n",
    "sys+=wallbc"
   ]
  },
  {
   "cell_type": "markdown",
   "metadata": {},
   "source": [
    "## Show if everything went well so far"
   ]
  },
  {
   "cell_type": "code",
   "execution_count": null,
   "metadata": {
    "collapsed": false,
    "scrolled": true
   },
   "outputs": [],
   "source": [
    "#sys.show(4)"
   ]
  },
  {
   "cell_type": "markdown",
   "metadata": {},
   "source": [
    "# Create a solver object and solve the system!"
   ]
  },
  {
   "cell_type": "code",
   "execution_count": null,
   "metadata": {
    "collapsed": true
   },
   "outputs": [],
   "source": [
    "sol=Solver()\n",
    "sol.setMaxiter(100)\n",
    "sol.setMaxdampfac(0.5)"
   ]
  },
  {
   "cell_type": "code",
   "execution_count": null,
   "metadata": {
    "collapsed": false
   },
   "outputs": [],
   "source": [
    "sol.solve(sys)\n",
    "semilogy(sol.getSp().Funer())"
   ]
  },
  {
   "cell_type": "markdown",
   "metadata": {},
   "source": [
    "# Do the postprocessing!"
   ]
  },
  {
   "cell_type": "code",
   "execution_count": null,
   "metadata": {
    "collapsed": false
   },
   "outputs": [],
   "source": [
    "piston=sys.getPiston('piston')\n",
    "tube=sys.getDuct('tube')\n",
    "x=tube.getx()"
   ]
  },
  {
   "cell_type": "markdown",
   "metadata": {},
   "source": [
    "## The tube"
   ]
  },
  {
   "cell_type": "markdown",
   "metadata": {},
   "source": [
    "### Plot the pressure in the tube at different time instances"
   ]
  },
  {
   "cell_type": "code",
   "execution_count": null,
   "metadata": {
    "collapsed": false
   },
   "outputs": [],
   "source": [
    "T=1/freq # Obtain the period\n",
    "Np=15 # Number of time instance to plot\n",
    "figure(figsize=(12,4))\n",
    "hold('on')\n",
    "for i in range(Np):\n",
    "    plot(x,tube.getValueT(Varnr_p,i*T/(Np+1))) # Obtain the value of the pressure in the tube at a certain time instance\n",
    "xlabel('x')\n",
    "ylabel('p_t')"
   ]
  },
  {
   "cell_type": "code",
   "execution_count": null,
   "metadata": {
    "collapsed": false
   },
   "outputs": [],
   "source": [
    "figure(figsize=(12,4))\n",
    "hold('on')\n",
    "for i in range(Np):\n",
    "    plot(x,tube.getValueT(Varnr_U,i*T/(Np+1))) # Obtain the value of the pressure in the tube at a certain time instance\n",
    "xlabel('x')\n",
    "ylabel('U_t')"
   ]
  },
  {
   "cell_type": "markdown",
   "metadata": {},
   "source": [
    "### Looking at phasors"
   ]
  },
  {
   "cell_type": "code",
   "execution_count": null,
   "metadata": {
    "collapsed": false
   },
   "outputs": [],
   "source": [
    "figure(figsize=(12,3))\n",
    "T1=tube.getValueC(Varnr_T,1)\n",
    "plot(x,T1.real)\n",
    "xlabel('x')\n",
    "ylabel('T_1')"
   ]
  },
  {
   "cell_type": "markdown",
   "metadata": {},
   "source": [
    "### Looking at phasors"
   ]
  },
  {
   "cell_type": "code",
   "execution_count": null,
   "metadata": {
    "collapsed": false
   },
   "outputs": [],
   "source": [
    "figure(figsize=(12,3))\n",
    "T2=tube.getValueC(Varnr_T,2)\n",
    "plot(x,T2.real)"
   ]
  },
  {
   "cell_type": "code",
   "execution_count": null,
   "metadata": {
    "collapsed": false
   },
   "outputs": [],
   "source": [
    "mH=tube.getValue(Varnr_mH,0)\n",
    "Q=tube.getValue(Varnr_Q,0)\n",
    "#figure(figsize=(12,3))\n",
    "#plot(x,mH+Q)"
   ]
  },
  {
   "cell_type": "markdown",
   "metadata": {},
   "source": [
    "## Variables in the piston"
   ]
  },
  {
   "cell_type": "code",
   "execution_count": null,
   "metadata": {
    "collapsed": false
   },
   "outputs": [],
   "source": [
    "figure(figsize=(12,3))\n",
    "subplot(121)\n",
    "plot(piston.Vr().timeResponse())\n",
    "subplot(122)\n",
    "plot(piston.pr().timeResponse())"
   ]
  }
 ],
 "metadata": {
  "kernelspec": {
   "display_name": "Python 3",
   "language": "python",
   "name": "python3"
  },
  "language_info": {
   "codemirror_mode": {
    "name": "ipython",
    "version": 3
   },
   "file_extension": ".py",
   "mimetype": "text/x-python",
   "name": "python",
   "nbconvert_exporter": "python",
   "pygments_lexer": "ipython3",
   "version": "3.5.0"
  }
 },
 "nbformat": 4,
 "nbformat_minor": 0
}
